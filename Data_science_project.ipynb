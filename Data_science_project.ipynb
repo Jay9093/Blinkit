{
  "nbformat": 4,
  "nbformat_minor": 0,
  "metadata": {
    "colab": {
      "provenance": [],
      "authorship_tag": "ABX9TyM1XRERVpiovGRqdL+OIVtK",
      "include_colab_link": true
    },
    "kernelspec": {
      "name": "python3",
      "display_name": "Python 3"
    },
    "language_info": {
      "name": "python"
    }
  },
  "cells": [
    {
      "cell_type": "markdown",
      "metadata": {
        "id": "view-in-github",
        "colab_type": "text"
      },
      "source": [
        "<a href=\"https://colab.research.google.com/github/Jay9093/Blinkit/blob/main/Data_science_project.ipynb\" target=\"_parent\"><img src=\"https://colab.research.google.com/assets/colab-badge.svg\" alt=\"Open In Colab\"/></a>"
      ]
    },
    {
      "cell_type": "code",
      "source": [
        "#DATASET LINK - https://docs.google.com/spreadsheets/d/1ryNsUAIHfzi4rmW7_2vjFUiZgQeBT8gZ/edit?usp=sharing&ouid=103609734308360548547&rtpof=true&sd=true"
      ],
      "metadata": {
        "id": "K1D1EobTU84b"
      },
      "execution_count": null,
      "outputs": []
    },
    {
      "cell_type": "code",
      "execution_count": null,
      "metadata": {
        "id": "ouMaqpNC3c-W"
      },
      "outputs": [],
      "source": []
    },
    {
      "cell_type": "markdown",
      "source": [
        "**BLINKIT DATA ANALYSIS - DATA COLLECTION AND PREPROCESSING**\n",
        "\n",
        "Team -\n",
        "\n",
        "1. Vaibhav Gandhi - 959\n",
        "2. Chakka Yaswanth Gupta - 975\n",
        "3. Tushar DineshPrabhu - 988\n",
        "4. Jayashree Manigandan - 2017"
      ],
      "metadata": {
        "id": "ip3uU28S3jP3"
      }
    },
    {
      "cell_type": "code",
      "source": [
        "from google.colab import files\n",
        "uploaded = files.upload()"
      ],
      "metadata": {
        "colab": {
          "base_uri": "https://localhost:8080/",
          "height": 73
        },
        "id": "ANo4dcSg3oaJ",
        "outputId": "a64261de-00af-44b4-a015-7b85aca0f4fe"
      },
      "execution_count": null,
      "outputs": [
        {
          "output_type": "display_data",
          "data": {
            "text/plain": [
              "<IPython.core.display.HTML object>"
            ],
            "text/html": [
              "\n",
              "     <input type=\"file\" id=\"files-a9a7241b-694c-4811-bd9f-a486a31982e1\" name=\"files[]\" multiple disabled\n",
              "        style=\"border:none\" />\n",
              "     <output id=\"result-a9a7241b-694c-4811-bd9f-a486a31982e1\">\n",
              "      Upload widget is only available when the cell has been executed in the\n",
              "      current browser session. Please rerun this cell to enable.\n",
              "      </output>\n",
              "      <script>// Copyright 2017 Google LLC\n",
              "//\n",
              "// Licensed under the Apache License, Version 2.0 (the \"License\");\n",
              "// you may not use this file except in compliance with the License.\n",
              "// You may obtain a copy of the License at\n",
              "//\n",
              "//      http://www.apache.org/licenses/LICENSE-2.0\n",
              "//\n",
              "// Unless required by applicable law or agreed to in writing, software\n",
              "// distributed under the License is distributed on an \"AS IS\" BASIS,\n",
              "// WITHOUT WARRANTIES OR CONDITIONS OF ANY KIND, either express or implied.\n",
              "// See the License for the specific language governing permissions and\n",
              "// limitations under the License.\n",
              "\n",
              "/**\n",
              " * @fileoverview Helpers for google.colab Python module.\n",
              " */\n",
              "(function(scope) {\n",
              "function span(text, styleAttributes = {}) {\n",
              "  const element = document.createElement('span');\n",
              "  element.textContent = text;\n",
              "  for (const key of Object.keys(styleAttributes)) {\n",
              "    element.style[key] = styleAttributes[key];\n",
              "  }\n",
              "  return element;\n",
              "}\n",
              "\n",
              "// Max number of bytes which will be uploaded at a time.\n",
              "const MAX_PAYLOAD_SIZE = 100 * 1024;\n",
              "\n",
              "function _uploadFiles(inputId, outputId) {\n",
              "  const steps = uploadFilesStep(inputId, outputId);\n",
              "  const outputElement = document.getElementById(outputId);\n",
              "  // Cache steps on the outputElement to make it available for the next call\n",
              "  // to uploadFilesContinue from Python.\n",
              "  outputElement.steps = steps;\n",
              "\n",
              "  return _uploadFilesContinue(outputId);\n",
              "}\n",
              "\n",
              "// This is roughly an async generator (not supported in the browser yet),\n",
              "// where there are multiple asynchronous steps and the Python side is going\n",
              "// to poll for completion of each step.\n",
              "// This uses a Promise to block the python side on completion of each step,\n",
              "// then passes the result of the previous step as the input to the next step.\n",
              "function _uploadFilesContinue(outputId) {\n",
              "  const outputElement = document.getElementById(outputId);\n",
              "  const steps = outputElement.steps;\n",
              "\n",
              "  const next = steps.next(outputElement.lastPromiseValue);\n",
              "  return Promise.resolve(next.value.promise).then((value) => {\n",
              "    // Cache the last promise value to make it available to the next\n",
              "    // step of the generator.\n",
              "    outputElement.lastPromiseValue = value;\n",
              "    return next.value.response;\n",
              "  });\n",
              "}\n",
              "\n",
              "/**\n",
              " * Generator function which is called between each async step of the upload\n",
              " * process.\n",
              " * @param {string} inputId Element ID of the input file picker element.\n",
              " * @param {string} outputId Element ID of the output display.\n",
              " * @return {!Iterable<!Object>} Iterable of next steps.\n",
              " */\n",
              "function* uploadFilesStep(inputId, outputId) {\n",
              "  const inputElement = document.getElementById(inputId);\n",
              "  inputElement.disabled = false;\n",
              "\n",
              "  const outputElement = document.getElementById(outputId);\n",
              "  outputElement.innerHTML = '';\n",
              "\n",
              "  const pickedPromise = new Promise((resolve) => {\n",
              "    inputElement.addEventListener('change', (e) => {\n",
              "      resolve(e.target.files);\n",
              "    });\n",
              "  });\n",
              "\n",
              "  const cancel = document.createElement('button');\n",
              "  inputElement.parentElement.appendChild(cancel);\n",
              "  cancel.textContent = 'Cancel upload';\n",
              "  const cancelPromise = new Promise((resolve) => {\n",
              "    cancel.onclick = () => {\n",
              "      resolve(null);\n",
              "    };\n",
              "  });\n",
              "\n",
              "  // Wait for the user to pick the files.\n",
              "  const files = yield {\n",
              "    promise: Promise.race([pickedPromise, cancelPromise]),\n",
              "    response: {\n",
              "      action: 'starting',\n",
              "    }\n",
              "  };\n",
              "\n",
              "  cancel.remove();\n",
              "\n",
              "  // Disable the input element since further picks are not allowed.\n",
              "  inputElement.disabled = true;\n",
              "\n",
              "  if (!files) {\n",
              "    return {\n",
              "      response: {\n",
              "        action: 'complete',\n",
              "      }\n",
              "    };\n",
              "  }\n",
              "\n",
              "  for (const file of files) {\n",
              "    const li = document.createElement('li');\n",
              "    li.append(span(file.name, {fontWeight: 'bold'}));\n",
              "    li.append(span(\n",
              "        `(${file.type || 'n/a'}) - ${file.size} bytes, ` +\n",
              "        `last modified: ${\n",
              "            file.lastModifiedDate ? file.lastModifiedDate.toLocaleDateString() :\n",
              "                                    'n/a'} - `));\n",
              "    const percent = span('0% done');\n",
              "    li.appendChild(percent);\n",
              "\n",
              "    outputElement.appendChild(li);\n",
              "\n",
              "    const fileDataPromise = new Promise((resolve) => {\n",
              "      const reader = new FileReader();\n",
              "      reader.onload = (e) => {\n",
              "        resolve(e.target.result);\n",
              "      };\n",
              "      reader.readAsArrayBuffer(file);\n",
              "    });\n",
              "    // Wait for the data to be ready.\n",
              "    let fileData = yield {\n",
              "      promise: fileDataPromise,\n",
              "      response: {\n",
              "        action: 'continue',\n",
              "      }\n",
              "    };\n",
              "\n",
              "    // Use a chunked sending to avoid message size limits. See b/62115660.\n",
              "    let position = 0;\n",
              "    do {\n",
              "      const length = Math.min(fileData.byteLength - position, MAX_PAYLOAD_SIZE);\n",
              "      const chunk = new Uint8Array(fileData, position, length);\n",
              "      position += length;\n",
              "\n",
              "      const base64 = btoa(String.fromCharCode.apply(null, chunk));\n",
              "      yield {\n",
              "        response: {\n",
              "          action: 'append',\n",
              "          file: file.name,\n",
              "          data: base64,\n",
              "        },\n",
              "      };\n",
              "\n",
              "      let percentDone = fileData.byteLength === 0 ?\n",
              "          100 :\n",
              "          Math.round((position / fileData.byteLength) * 100);\n",
              "      percent.textContent = `${percentDone}% done`;\n",
              "\n",
              "    } while (position < fileData.byteLength);\n",
              "  }\n",
              "\n",
              "  // All done.\n",
              "  yield {\n",
              "    response: {\n",
              "      action: 'complete',\n",
              "    }\n",
              "  };\n",
              "}\n",
              "\n",
              "scope.google = scope.google || {};\n",
              "scope.google.colab = scope.google.colab || {};\n",
              "scope.google.colab._files = {\n",
              "  _uploadFiles,\n",
              "  _uploadFilesContinue,\n",
              "};\n",
              "})(self);\n",
              "</script> "
            ]
          },
          "metadata": {}
        },
        {
          "output_type": "stream",
          "name": "stdout",
          "text": [
            "Saving BlinkIT Grocery Data Excel.xlsx to BlinkIT Grocery Data Excel.xlsx\n"
          ]
        }
      ]
    },
    {
      "cell_type": "code",
      "source": [
        "# Step 1: Import Libraries\n",
        "import pandas as pd\n",
        "import numpy as np\n",
        "import seaborn as sns\n",
        "import matplotlib.pyplot as plt\n",
        "from scipy import stats"
      ],
      "metadata": {
        "id": "CQ6QLmb23-bT"
      },
      "execution_count": null,
      "outputs": []
    },
    {
      "cell_type": "code",
      "source": [
        "# Step 2: Load the Data\n",
        "file_path = 'BlinkIT Grocery Data Excel.xlsx'\n",
        "df = pd.read_excel(file_path)\n"
      ],
      "metadata": {
        "id": "NcLEhGBS4B3Y"
      },
      "execution_count": null,
      "outputs": []
    },
    {
      "cell_type": "code",
      "source": [
        "# Step 3: Initial Data Check\n",
        "print(\"Initial data shape:\", df.shape)\n",
        "print(df.head())\n",
        "print(\"\\nColumns:\\n\", df.columns.tolist())"
      ],
      "metadata": {
        "colab": {
          "base_uri": "https://localhost:8080/"
        },
        "id": "KQOXnDJa4Gvl",
        "outputId": "b8dc1f3d-c030-43d0-9d34-ad74ad26a91f"
      },
      "execution_count": null,
      "outputs": [
        {
          "output_type": "stream",
          "name": "stdout",
          "text": [
            "Initial data shape: (8523, 12)\n",
            "  Item Fat Content Item Identifier              Item Type  \\\n",
            "0          Regular           FDX32  Fruits and Vegetables   \n",
            "1          Low Fat           NCB42     Health and Hygiene   \n",
            "2          Regular           FDR28           Frozen Foods   \n",
            "3          Regular           FDL50                 Canned   \n",
            "4          Low Fat           DRI25            Soft Drinks   \n",
            "\n",
            "   Outlet Establishment Year Outlet Identifier Outlet Location Type  \\\n",
            "0                       2012            OUT049               Tier 1   \n",
            "1                       2022            OUT018               Tier 3   \n",
            "2                       2016            OUT046               Tier 1   \n",
            "3                       2014            OUT013               Tier 3   \n",
            "4                       2015            OUT045               Tier 2   \n",
            "\n",
            "  Outlet Size        Outlet Type  Item Visibility  Item Weight     Sales  \\\n",
            "0      Medium  Supermarket Type1         0.100014        15.10  145.4786   \n",
            "1      Medium  Supermarket Type2         0.008596        11.80  115.3492   \n",
            "2       Small  Supermarket Type1         0.025896        13.85  165.0210   \n",
            "3        High  Supermarket Type1         0.042278        12.15  126.5046   \n",
            "4       Small  Supermarket Type1         0.033970        19.60   55.1614   \n",
            "\n",
            "   Rating  \n",
            "0     5.0  \n",
            "1     5.0  \n",
            "2     5.0  \n",
            "3     5.0  \n",
            "4     5.0  \n",
            "\n",
            "Columns:\n",
            " ['Item Fat Content', 'Item Identifier', 'Item Type', 'Outlet Establishment Year', 'Outlet Identifier', 'Outlet Location Type', 'Outlet Size', 'Outlet Type', 'Item Visibility', 'Item Weight', 'Sales', 'Rating']\n"
          ]
        }
      ]
    },
    {
      "cell_type": "code",
      "source": [
        "# Step 4: Standardize Column Names (for consistency)\n",
        "df.columns = df.columns.str.strip().str.lower().str.replace(' ', '_')"
      ],
      "metadata": {
        "id": "2GQO29kJ4K1b"
      },
      "execution_count": null,
      "outputs": []
    },
    {
      "cell_type": "code",
      "source": [
        "print(\"🔹 Step 4: Standardized Column Names\")\n",
        "print(df.columns.tolist())\n",
        "print(\"=\"*60)"
      ],
      "metadata": {
        "colab": {
          "base_uri": "https://localhost:8080/"
        },
        "id": "L_Tmx4Fk4mft",
        "outputId": "eb8cbaf0-23a4-4321-bb96-1ff89563f997"
      },
      "execution_count": null,
      "outputs": [
        {
          "output_type": "stream",
          "name": "stdout",
          "text": [
            "🔹 Step 4: Standardized Column Names\n",
            "['item_fat_content', 'item_identifier', 'item_type', 'outlet_establishment_year', 'outlet_identifier', 'outlet_location_type', 'outlet_size', 'outlet_type', 'item_visibility', 'item_weight', 'sales', 'rating']\n",
            "============================================================\n"
          ]
        }
      ]
    },
    {
      "cell_type": "code",
      "source": [
        "# Step 5: Check and Handle Missing Values\n",
        "print(\"🔹 Step 5: Missing Values BEFORE Handling\")\n",
        "print(df.isnull().sum())\n",
        "\n",
        "# Fill numeric with median\n",
        "numeric_cols = df.select_dtypes(include=['float64', 'int64']).columns\n",
        "df[numeric_cols] = df[numeric_cols].fillna(df[numeric_cols].median())\n",
        "\n",
        "print(\"\\n🔹 Step 5: Missing Values AFTER Handling\")\n",
        "print(df.isnull().sum())\n",
        "print(\"=\"*60)"
      ],
      "metadata": {
        "colab": {
          "base_uri": "https://localhost:8080/"
        },
        "id": "EReSW9h34xJJ",
        "outputId": "30ad8144-2fe4-4541-af27-d5295ae87bbe"
      },
      "execution_count": null,
      "outputs": [
        {
          "output_type": "stream",
          "name": "stdout",
          "text": [
            "🔹 Step 5: Missing Values BEFORE Handling\n",
            "item_fat_content                0\n",
            "item_identifier                 0\n",
            "item_type                       0\n",
            "outlet_establishment_year       0\n",
            "outlet_identifier               0\n",
            "outlet_location_type            0\n",
            "outlet_size                     0\n",
            "outlet_type                     0\n",
            "item_visibility                 0\n",
            "item_weight                  1463\n",
            "sales                           0\n",
            "rating                          0\n",
            "dtype: int64\n",
            "\n",
            "🔹 Step 5: Missing Values AFTER Handling\n",
            "item_fat_content             0\n",
            "item_identifier              0\n",
            "item_type                    0\n",
            "outlet_establishment_year    0\n",
            "outlet_identifier            0\n",
            "outlet_location_type         0\n",
            "outlet_size                  0\n",
            "outlet_type                  0\n",
            "item_visibility              0\n",
            "item_weight                  0\n",
            "sales                        0\n",
            "rating                       0\n",
            "dtype: int64\n",
            "============================================================\n"
          ]
        }
      ]
    },
    {
      "cell_type": "code",
      "source": [
        "# Step 6: Remove Duplicates (if any)\n",
        "df = df.drop_duplicates()\n",
        "print(\"\\nData shape after removing duplicates:\", df.shape)"
      ],
      "metadata": {
        "colab": {
          "base_uri": "https://localhost:8080/"
        },
        "id": "HvYyqUZU5FDj",
        "outputId": "7767d6fb-fcac-4076-8825-58e2d1cdc1e8"
      },
      "execution_count": null,
      "outputs": [
        {
          "output_type": "stream",
          "name": "stdout",
          "text": [
            "\n",
            "Data shape after removing duplicates: (8523, 12)\n"
          ]
        }
      ]
    },
    {
      "cell_type": "code",
      "source": [
        "# Outlet age\n",
        "df['outlet_age'] = 2025 - df['outlet_establishment_year']\n",
        "\n",
        "# Visibility to weight ratio\n",
        "df['visibility_weight_ratio'] = df['item_visibility'] / (df['item_weight'] + 1e-5)\n",
        "\n",
        "print(\"🔹 Step 7: Feature Engineering\")\n",
        "print(df[['outlet_age', 'visibility_weight_ratio']].head())\n",
        "print(\"=\"*60)"
      ],
      "metadata": {
        "colab": {
          "base_uri": "https://localhost:8080/"
        },
        "id": "QlYC9Wy25WAT",
        "outputId": "cbd1b78f-a3dc-488e-9866-817092632590"
      },
      "execution_count": null,
      "outputs": [
        {
          "output_type": "stream",
          "name": "stdout",
          "text": [
            "🔹 Step 7: Feature Engineering\n",
            "   outlet_age  visibility_weight_ratio\n",
            "0          13                 0.006623\n",
            "1           3                 0.000728\n",
            "2           9                 0.001870\n",
            "3          11                 0.003480\n",
            "4          10                 0.001733\n",
            "============================================================\n"
          ]
        }
      ]
    },
    {
      "cell_type": "code",
      "source": [
        "print(\"🔹 Step 8: BEFORE Encoding - Columns:\", df.columns.tolist())\n",
        "df = pd.get_dummies(df, columns=['outlet_location_type', 'outlet_size', 'outlet_type', 'item_type'], drop_first=True)\n",
        "print(\"AFTER Encoding - Columns:\", df.columns.tolist())\n",
        "print(\"=\"*60)"
      ],
      "metadata": {
        "id": "londDSuu6gMP",
        "colab": {
          "base_uri": "https://localhost:8080/"
        },
        "outputId": "fcfaae51-668b-40d8-fff9-f9d5d4199611"
      },
      "execution_count": null,
      "outputs": [
        {
          "output_type": "stream",
          "name": "stdout",
          "text": [
            "🔹 Step 8: BEFORE Encoding - Columns: ['item_fat_content', 'item_identifier', 'item_type', 'outlet_establishment_year', 'outlet_identifier', 'outlet_location_type', 'outlet_size', 'outlet_type', 'item_visibility', 'item_weight', 'sales', 'rating', 'outlet_age', 'visibility_weight_ratio']\n",
            "AFTER Encoding - Columns: ['item_fat_content', 'item_identifier', 'outlet_establishment_year', 'outlet_identifier', 'item_visibility', 'item_weight', 'sales', 'rating', 'outlet_age', 'visibility_weight_ratio', 'outlet_location_type_Tier 2', 'outlet_location_type_Tier 3', 'outlet_size_Medium', 'outlet_size_Small', 'outlet_type_Supermarket Type1', 'outlet_type_Supermarket Type2', 'outlet_type_Supermarket Type3', 'item_type_Breads', 'item_type_Breakfast', 'item_type_Canned', 'item_type_Dairy', 'item_type_Frozen Foods', 'item_type_Fruits and Vegetables', 'item_type_Hard Drinks', 'item_type_Health and Hygiene', 'item_type_Household', 'item_type_Meat', 'item_type_Others', 'item_type_Seafood', 'item_type_Snack Foods', 'item_type_Soft Drinks', 'item_type_Starchy Foods']\n",
            "============================================================\n"
          ]
        }
      ]
    },
    {
      "cell_type": "code",
      "source": [
        "# Step 9: Outlier Detection and Removal\n",
        "print(\"🔹 Step 8: Shape BEFORE outlier removal:\", df.shape)\n",
        "\n",
        "# Z-score method\n",
        "numeric_cols = df.select_dtypes(include=[np.number]).columns.tolist()\n",
        "z_scores = np.abs(stats.zscore(df[numeric_cols]))\n",
        "\n",
        "df = df[(z_scores < 3).all(axis=1)]\n",
        "\n",
        "print(\"Shape AFTER outlier removal:\", df.shape)\n",
        "print(\"=\"*60)"
      ],
      "metadata": {
        "colab": {
          "base_uri": "https://localhost:8080/"
        },
        "id": "OFUVQMTY8EGl",
        "outputId": "be74d090-24c4-4612-f894-27d8648ea319"
      },
      "execution_count": null,
      "outputs": [
        {
          "output_type": "stream",
          "name": "stdout",
          "text": [
            "🔹 Step 8: Shape BEFORE outlier removal: (8523, 32)\n",
            "Shape AFTER outlier removal: (8097, 32)\n",
            "============================================================\n"
          ]
        }
      ]
    },
    {
      "cell_type": "code",
      "source": [
        "# Step 10: Reshape Dataset\n",
        "df_melted = pd.melt(df, id_vars=['item_identifier', 'outlet_identifier'], value_vars=['sales', 'rating'],\n",
        "                    var_name='metric', value_name='value')\n",
        "\n",
        "print(\"Reshaped (Melted) Data Sample:\")\n",
        "print(df_melted.head())\n",
        "print(\"=\"*60)"
      ],
      "metadata": {
        "colab": {
          "base_uri": "https://localhost:8080/"
        },
        "id": "B8PVydmY8Sem",
        "outputId": "157f117e-f387-45ae-8ac6-b9b23f61c3a9"
      },
      "execution_count": null,
      "outputs": [
        {
          "output_type": "stream",
          "name": "stdout",
          "text": [
            "Reshaped (Melted) Data Sample:\n",
            "  item_identifier outlet_identifier metric     value\n",
            "0           FDX32            OUT049  sales  145.4786\n",
            "1           NCB42            OUT018  sales  115.3492\n",
            "2           FDR28            OUT046  sales  165.0210\n",
            "3           FDL50            OUT013  sales  126.5046\n",
            "4           DRI25            OUT045  sales   55.1614\n",
            "============================================================\n"
          ]
        }
      ]
    },
    {
      "cell_type": "code",
      "source": [
        "# Step 10: Final Overview\n",
        "print(\"🔹 Step 10: Final Cleaned Data Shape:\", df.shape)\n",
        "print(df.head())\n",
        "print(\"=\"*60)\n"
      ],
      "metadata": {
        "colab": {
          "base_uri": "https://localhost:8080/"
        },
        "id": "ivs5Rn5v8ZMQ",
        "outputId": "101a71ec-2680-424e-9a65-40d9c2fe13fd"
      },
      "execution_count": null,
      "outputs": [
        {
          "output_type": "stream",
          "name": "stdout",
          "text": [
            "🔹 Step 10: Final Cleaned Data Shape: (8097, 32)\n",
            "  item_fat_content item_identifier  outlet_establishment_year  \\\n",
            "0          Regular           FDX32                       2012   \n",
            "1          Low Fat           NCB42                       2022   \n",
            "2          Regular           FDR28                       2016   \n",
            "3          Regular           FDL50                       2014   \n",
            "4          Low Fat           DRI25                       2015   \n",
            "\n",
            "  outlet_identifier  item_visibility  item_weight     sales  rating  \\\n",
            "0            OUT049         0.100014        15.10  145.4786     5.0   \n",
            "1            OUT018         0.008596        11.80  115.3492     5.0   \n",
            "2            OUT046         0.025896        13.85  165.0210     5.0   \n",
            "3            OUT013         0.042278        12.15  126.5046     5.0   \n",
            "4            OUT045         0.033970        19.60   55.1614     5.0   \n",
            "\n",
            "   outlet_age  visibility_weight_ratio  ...  item_type_Fruits and Vegetables  \\\n",
            "0          13                 0.006623  ...                             True   \n",
            "1           3                 0.000728  ...                            False   \n",
            "2           9                 0.001870  ...                            False   \n",
            "3          11                 0.003480  ...                            False   \n",
            "4          10                 0.001733  ...                            False   \n",
            "\n",
            "   item_type_Hard Drinks  item_type_Health and Hygiene  item_type_Household  \\\n",
            "0                  False                         False                False   \n",
            "1                  False                          True                False   \n",
            "2                  False                         False                False   \n",
            "3                  False                         False                False   \n",
            "4                  False                         False                False   \n",
            "\n",
            "   item_type_Meat  item_type_Others  item_type_Seafood  item_type_Snack Foods  \\\n",
            "0           False             False              False                  False   \n",
            "1           False             False              False                  False   \n",
            "2           False             False              False                  False   \n",
            "3           False             False              False                  False   \n",
            "4           False             False              False                  False   \n",
            "\n",
            "   item_type_Soft Drinks  item_type_Starchy Foods  \n",
            "0                  False                    False  \n",
            "1                  False                    False  \n",
            "2                  False                    False  \n",
            "3                  False                    False  \n",
            "4                   True                    False  \n",
            "\n",
            "[5 rows x 32 columns]\n",
            "============================================================\n"
          ]
        }
      ]
    },
    {
      "cell_type": "code",
      "source": [
        "#Visualizations\n",
        "print(\"Visualizations\")\n",
        "\n",
        "plt.figure(figsize=(8, 5))\n",
        "sns.histplot(df['sales'], kde=True)\n",
        "plt.title('Sales Distribution')\n",
        "plt.show()\n",
        "\n",
        "# Select only numeric features for correlation\n",
        "numeric_df = df.select_dtypes(include=np.number)\n",
        "\n",
        "plt.figure(figsize=(8, 5))\n",
        "sns.heatmap(numeric_df.corr(), annot=False, cmap='coolwarm')\n",
        "plt.title('Correlation Heatmap')\n",
        "plt.show()"
      ],
      "metadata": {
        "colab": {
          "base_uri": "https://localhost:8080/",
          "height": 1000
        },
        "id": "SvHxYLrf8gcy",
        "outputId": "a5f19b78-120f-420c-dd84-faf37bbbf6ab"
      },
      "execution_count": null,
      "outputs": [
        {
          "output_type": "stream",
          "name": "stdout",
          "text": [
            "Visualizations\n"
          ]
        },
        {
          "output_type": "display_data",
          "data": {
            "text/plain": [
              "<Figure size 800x500 with 1 Axes>"
            ],
            "image/png": "[encoded data removed]"
          },
          "metadata": {}
        },
        {
          "output_type": "display_data",
          "data": {
            "text/plain": [
              "<Figure size 800x500 with 2 Axes>"
            ],
            "image/png": "[encoded data removed]"
          },
          "metadata": {}
        }
      ]
    }
  ]
}